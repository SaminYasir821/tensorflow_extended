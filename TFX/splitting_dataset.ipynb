{
 "cells": [
  {
   "cell_type": "code",
   "execution_count": 1,
   "id": "dfe35f05",
   "metadata": {},
   "outputs": [
    {
     "name": "stderr",
     "output_type": "stream",
     "text": [
      "2025-06-11 21:30:48.609509: I tensorflow/core/util/port.cc:113] oneDNN custom operations are on. You may see slightly different numerical results due to floating-point round-off errors from different computation orders. To turn them off, set the environment variable `TF_ENABLE_ONEDNN_OPTS=0`.\n",
      "2025-06-11 21:30:48.610052: I external/local_tsl/tsl/cuda/cudart_stub.cc:32] Could not find cuda drivers on your machine, GPU will not be used.\n",
      "2025-06-11 21:30:48.611920: I external/local_tsl/tsl/cuda/cudart_stub.cc:32] Could not find cuda drivers on your machine, GPU will not be used.\n",
      "2025-06-11 21:30:48.617997: E external/local_xla/xla/stream_executor/cuda/cuda_fft.cc:479] Unable to register cuFFT factory: Attempting to register factory for plugin cuFFT when one has already been registered\n",
      "2025-06-11 21:30:48.630037: E external/local_xla/xla/stream_executor/cuda/cuda_dnn.cc:10575] Unable to register cuDNN factory: Attempting to register factory for plugin cuDNN when one has already been registered\n",
      "2025-06-11 21:30:48.630054: E external/local_xla/xla/stream_executor/cuda/cuda_blas.cc:1442] Unable to register cuBLAS factory: Attempting to register factory for plugin cuBLAS when one has already been registered\n",
      "2025-06-11 21:30:48.638569: I tensorflow/core/platform/cpu_feature_guard.cc:210] This TensorFlow binary is optimized to use available CPU instructions in performance-critical operations.\n",
      "To enable the following instructions: AVX2 AVX512F AVX512_VNNI AVX512_BF16 FMA, in other operations, rebuild TensorFlow with the appropriate compiler flags.\n",
      "2025-06-11 21:30:49.218596: W tensorflow/compiler/tf2tensorrt/utils/py_utils.cc:38] TF-TRT Warning: Could not find TensorRT\n",
      "WARNING:absl:InteractiveContext pipeline_root argument not provided: using temporary directory /tmp/tfx-interactive-2025-06-11T21_30_51.356247-pbsm9bfd as root for pipeline outputs.\n",
      "WARNING:absl:InteractiveContext metadata_connection_config not provided: using SQLite ML Metadata database at /tmp/tfx-interactive-2025-06-11T21_30_51.356247-pbsm9bfd/metadata.sqlite.\n",
      "WARNING:apache_beam.runners.interactive.interactive_environment:Dependencies required for Interactive Beam PCollection visualization are not available, please use: `pip install apache-beam[interactive]` to install necessary dependencies to enable all data visualization features.\n"
     ]
    },
    {
     "data": {
      "application/javascript": "\n        if (typeof window.interactive_beam_jquery == 'undefined') {\n          var jqueryScript = document.createElement('script');\n          jqueryScript.src = 'https://code.jquery.com/jquery-3.4.1.slim.min.js';\n          jqueryScript.type = 'text/javascript';\n          jqueryScript.onload = function() {\n            var datatableScript = document.createElement('script');\n            datatableScript.src = 'https://cdn.datatables.net/1.10.20/js/jquery.dataTables.min.js';\n            datatableScript.type = 'text/javascript';\n            datatableScript.onload = function() {\n              window.interactive_beam_jquery = jQuery.noConflict(true);\n              window.interactive_beam_jquery(document).ready(function($){\n                \n              });\n            }\n            document.head.appendChild(datatableScript);\n          };\n          document.head.appendChild(jqueryScript);\n        } else {\n          window.interactive_beam_jquery(document).ready(function($){\n            \n          });\n        }"
     },
     "metadata": {},
     "output_type": "display_data"
    },
    {
     "name": "stdout",
     "output_type": "stream",
     "text": [
      "\n",
      "=== Generated Artifacts ===\n",
      "Artifact URI (base): /tmp/tfx-interactive-2025-06-11T21_30_51.356247-pbsm9bfd/CsvExampleGen/examples/1\n",
      "  Split: Split-train\n",
      "  Split Path: /tmp/tfx-interactive-2025-06-11T21_30_51.356247-pbsm9bfd/CsvExampleGen/examples/1/Split-train\n",
      "    File: /tmp/tfx-interactive-2025-06-11T21_30_51.356247-pbsm9bfd/CsvExampleGen/examples/1/Split-train/data_tfrecord-00000-of-00001.gz\n",
      "  Split: Split-eval\n",
      "  Split Path: /tmp/tfx-interactive-2025-06-11T21_30_51.356247-pbsm9bfd/CsvExampleGen/examples/1/Split-eval\n",
      "    File: /tmp/tfx-interactive-2025-06-11T21_30_51.356247-pbsm9bfd/CsvExampleGen/examples/1/Split-eval/data_tfrecord-00000-of-00001.gz\n",
      "  Split: Split-test\n",
      "  Split Path: /tmp/tfx-interactive-2025-06-11T21_30_51.356247-pbsm9bfd/CsvExampleGen/examples/1/Split-test\n",
      "    File: /tmp/tfx-interactive-2025-06-11T21_30_51.356247-pbsm9bfd/CsvExampleGen/examples/1/Split-test/data_tfrecord-00000-of-00001.gz\n",
      "----------------------------\n"
     ]
    }
   ],
   "source": [
    "import os\n",
    "from tfx.components import CsvExampleGen\n",
    "from tfx.proto import example_gen_pb2\n",
    "from tfx.orchestration.experimental.interactive.interactive_context import InteractiveContext\n",
    "\n",
    "# Create an interactive context (for notebook or local interactive session)\n",
    "context = InteractiveContext()\n",
    "\n",
    "# Prepare data and output configuration\n",
    "base_dir = os.getcwd()\n",
    "data_dir = os.path.join(base_dir, \"data2\")\n",
    "\n",
    "# Define split configuration\n",
    "output = example_gen_pb2.Output(\n",
    "    split_config=example_gen_pb2.SplitConfig(\n",
    "        splits=[\n",
    "            example_gen_pb2.SplitConfig.Split(name='train', hash_buckets=6),\n",
    "            example_gen_pb2.SplitConfig.Split(name='eval', hash_buckets=2),\n",
    "            example_gen_pb2.SplitConfig.Split(name='test', hash_buckets=2)\n",
    "        ]\n",
    "    )\n",
    ")\n",
    "\n",
    "# Define the ExampleGen component\n",
    "example_gen = CsvExampleGen(input_base=data_dir, output_config=output)\n",
    "\n",
    "# Run the component\n",
    "context.run(example_gen)\n",
    "\n",
    "\n",
    "import glob\n",
    "\n",
    "artifacts = example_gen.outputs['examples'].get()\n",
    "\n",
    "print(\"\\n=== Generated Artifacts ===\")\n",
    "for artifact in artifacts:\n",
    "    print(f\"Artifact URI (base): {artifact.uri}\")\n",
    "    \n",
    "    # Manually list split directories inside artifact.uri\n",
    "    split_dirs = [d for d in os.listdir(artifact.uri) if os.path.isdir(os.path.join(artifact.uri, d))]\n",
    "    \n",
    "    for split_name in split_dirs:\n",
    "        split_path = os.path.join(artifact.uri, split_name)\n",
    "        print(f\"  Split: {split_name}\")\n",
    "        print(f\"  Split Path: {split_path}\")\n",
    "        \n",
    "        # List files in this split\n",
    "        files = glob.glob(os.path.join(split_path, \"*\"))\n",
    "        for file in files:\n",
    "            print(f\"    File: {file}\")\n",
    "    \n",
    "    print(\"----------------------------\")\n",
    "\n",
    "\n",
    "\n",
    "# for artifact in example_gen.outputs[\"examples\"].get():\n",
    "#     print(artifact)"
   ]
  },
  {
   "cell_type": "code",
   "execution_count": 2,
   "id": "d1ab7eeb",
   "metadata": {},
   "outputs": [],
   "source": [
    "!cp /tmp/tfx-interactive-*/CsvExampleGen/examples/1/Split-eval/*.gz ~/Data\\ Ingestion\\ with\\ TFX/\n"
   ]
  }
 ],
 "metadata": {
  "kernelspec": {
   "display_name": "Python 3",
   "language": "python",
   "name": "python3"
  },
  "language_info": {
   "codemirror_mode": {
    "name": "ipython",
    "version": 3
   },
   "file_extension": ".py",
   "mimetype": "text/x-python",
   "name": "python",
   "nbconvert_exporter": "python",
   "pygments_lexer": "ipython3",
   "version": "3.9.22"
  }
 },
 "nbformat": 4,
 "nbformat_minor": 5
}
